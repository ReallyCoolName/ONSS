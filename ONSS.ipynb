{
  "nbformat": 4,
  "nbformat_minor": 0,
  "metadata": {
    "colab": {
      "name": "ONSS.ipynb",
      "provenance": [],
      "collapsed_sections": []
    },
    "kernelspec": {
      "name": "python3",
      "display_name": "Python 3"
    },
    "language_info": {
      "name": "python"
    }
  },
  "cells": [
    {
      "cell_type": "code",
      "metadata": {
        "colab": {
          "base_uri": "https://localhost:8080/",
          "height": 321
        },
        "id": "vIQlsm3rwOoH",
        "outputId": "fffe7919-e4ed-4bc3-e7cb-aa70b8c34dd1"
      },
      "source": [
        "from IPython.display import YouTubeVideo\n",
        "from datetime import datetime, timezone"
      ],
      "execution_count": null,
      "outputs": [
        {
          "output_type": "execute_result",
          "data": {
            "text/html": [
              "\n",
              "        <iframe\n",
              "            width=\"400\"\n",
              "            height=\"300\"\n",
              "            src=\"https://www.youtube.com/embed/rE_IKxYytc0?start=27&autoplay=1&loop=1&playlist=rE_IKxYytc0\"\n",
              "            frameborder=\"0\"\n",
              "            allowfullscreen\n",
              "        ></iframe>\n",
              "        "
            ],
            "text/plain": [
              "<IPython.lib.display.YouTubeVideo at 0x7fafeb81e890>"
            ],
            "image/jpeg": "[encoded data removed]"
          },
          "metadata": {
            "tags": []
          },
          "execution_count": 19
        }
      ]
    },
    {
      "cell_type": "code",
      "metadata": {
        "id": "TmDIGd_TBYgd"
      },
      "source": [
        "start = int((datetime.now(timezone.utc)-datetime(2004,3,31,tzinfo=timezone.utc)).total_seconds()) % 87 #87 seconds in the video\n",
        "YouTubeVideo(\"rE_IKxYytc0\",start=start,autoplay=1,loop=1,playlist=\"rE_IKxYytc0\")"
      ],
      "execution_count": null,
      "outputs": []
    },
    {
      "cell_type": "code",
      "metadata": {
        "colab": {
          "base_uri": "https://localhost:8080/"
        },
        "id": "DGXcicml4nQB",
        "outputId": "d2bdff8c-0d24-4f92-c560-75815925f2a4"
      },
      "source": [
        "import qrcode\n",
        "img = qrcode.make(\"https://mybinder.org/v2/gh/ReallyCoolName/ONSS/main\")"
      ],
      "execution_count": null,
      "outputs": [
        {
          "output_type": "stream",
          "text": [
            "Collecting qrcode[pil]\n",
            "  Downloading https://files.pythonhosted.org/packages/42/87/4a3a77e59ab7493d64da1f69bf1c2e899a4cf81e51b2baa855e8cc8115be/qrcode-6.1-py2.py3-none-any.whl\n",
            "Requirement already satisfied: six in /usr/local/lib/python3.7/dist-packages (from qrcode[pil]) (1.15.0)\n",
            "Requirement already satisfied: pillow; extra == \"pil\" in /usr/local/lib/python3.7/dist-packages (from qrcode[pil]) (7.1.2)\n",
            "Installing collected packages: qrcode\n",
            "Successfully installed qrcode-6.1\n",
            "<qrcode.image.pil.PilImage object at 0x7fb0110351d0>\n"
          ],
          "name": "stdout"
        }
      ]
    },
    {
      "cell_type": "code",
      "metadata": {
        "colab": {
          "base_uri": "https://localhost:8080/",
          "height": 307
        },
        "id": "ZeoqmNgH6p9e",
        "outputId": "576d92cd-d1b6-41b8-e519-9be72074d821"
      },
      "source": [
        "from IPython.display import display\n",
        "display(img)"
      ],
      "execution_count": null,
      "outputs": [
        {
          "output_type": "display_data",
          "data": {
            "image/png": "[encoded data removed]",
            "text/plain": [
              "<qrcode.image.pil.PilImage at 0x7fb0110351d0>"
            ]
          },
          "metadata": {
            "tags": []
          }
        }
      ]
    }
  ]
}
